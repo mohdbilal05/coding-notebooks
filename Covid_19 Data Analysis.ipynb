{
 "cells": [
  {
   "cell_type": "markdown",
   "metadata": {},
   "source": [
    "# Importing Data"
   ]
  },
  {
   "cell_type": "code",
   "execution_count": 19,
   "metadata": {},
   "outputs": [
    {
     "data": {
      "text/html": [
       "<div>\n",
       "<style scoped>\n",
       "    .dataframe tbody tr th:only-of-type {\n",
       "        vertical-align: middle;\n",
       "    }\n",
       "\n",
       "    .dataframe tbody tr th {\n",
       "        vertical-align: top;\n",
       "    }\n",
       "\n",
       "    .dataframe thead th {\n",
       "        text-align: right;\n",
       "    }\n",
       "</style>\n",
       "<table border=\"1\" class=\"dataframe\">\n",
       "  <thead>\n",
       "    <tr style=\"text-align: right;\">\n",
       "      <th></th>\n",
       "      <th>SlNo</th>\n",
       "      <th>State_Code</th>\n",
       "      <th>State</th>\n",
       "      <th>District_Key</th>\n",
       "      <th>District</th>\n",
       "      <th>Confirmed</th>\n",
       "      <th>Active</th>\n",
       "      <th>Recovered</th>\n",
       "      <th>Deceased</th>\n",
       "      <th>Migrated_Other</th>\n",
       "      <th>Delta_Confirmed</th>\n",
       "      <th>Delta_Active</th>\n",
       "      <th>Delta_Recovered</th>\n",
       "      <th>Delta_Deceased</th>\n",
       "      <th>District_Notes</th>\n",
       "      <th>Last_Updated</th>\n",
       "    </tr>\n",
       "  </thead>\n",
       "  <tbody>\n",
       "    <tr>\n",
       "      <th>0</th>\n",
       "      <td>0</td>\n",
       "      <td>UN</td>\n",
       "      <td>State Unassigned</td>\n",
       "      <td>UN_Unassigned</td>\n",
       "      <td>Unassigned</td>\n",
       "      <td>0</td>\n",
       "      <td>0</td>\n",
       "      <td>0</td>\n",
       "      <td>0</td>\n",
       "      <td>0</td>\n",
       "      <td>0</td>\n",
       "      <td>0</td>\n",
       "      <td>0</td>\n",
       "      <td>0</td>\n",
       "      <td>NaN</td>\n",
       "      <td>NaN</td>\n",
       "    </tr>\n",
       "    <tr>\n",
       "      <th>1</th>\n",
       "      <td>1</td>\n",
       "      <td>AN</td>\n",
       "      <td>Andaman and Nicobar Islands</td>\n",
       "      <td>AN_Nicobars</td>\n",
       "      <td>Nicobars</td>\n",
       "      <td>0</td>\n",
       "      <td>0</td>\n",
       "      <td>0</td>\n",
       "      <td>0</td>\n",
       "      <td>0</td>\n",
       "      <td>0</td>\n",
       "      <td>0</td>\n",
       "      <td>0</td>\n",
       "      <td>0</td>\n",
       "      <td>District-wise numbers are out-dated as cumulat...</td>\n",
       "      <td>NaN</td>\n",
       "    </tr>\n",
       "    <tr>\n",
       "      <th>2</th>\n",
       "      <td>2</td>\n",
       "      <td>AN</td>\n",
       "      <td>Andaman and Nicobar Islands</td>\n",
       "      <td>AN_North and Middle Andaman</td>\n",
       "      <td>North and Middle Andaman</td>\n",
       "      <td>1</td>\n",
       "      <td>0</td>\n",
       "      <td>1</td>\n",
       "      <td>0</td>\n",
       "      <td>0</td>\n",
       "      <td>0</td>\n",
       "      <td>0</td>\n",
       "      <td>0</td>\n",
       "      <td>0</td>\n",
       "      <td>District-wise numbers are out-dated as cumulat...</td>\n",
       "      <td>NaN</td>\n",
       "    </tr>\n",
       "    <tr>\n",
       "      <th>3</th>\n",
       "      <td>3</td>\n",
       "      <td>AN</td>\n",
       "      <td>Andaman and Nicobar Islands</td>\n",
       "      <td>AN_South Andaman</td>\n",
       "      <td>South Andaman</td>\n",
       "      <td>51</td>\n",
       "      <td>19</td>\n",
       "      <td>32</td>\n",
       "      <td>0</td>\n",
       "      <td>0</td>\n",
       "      <td>0</td>\n",
       "      <td>0</td>\n",
       "      <td>0</td>\n",
       "      <td>0</td>\n",
       "      <td>District-wise numbers are out-dated as cumulat...</td>\n",
       "      <td>NaN</td>\n",
       "    </tr>\n",
       "    <tr>\n",
       "      <th>4</th>\n",
       "      <td>0</td>\n",
       "      <td>AP</td>\n",
       "      <td>Andhra Pradesh</td>\n",
       "      <td>AP_Foreign Evacuees</td>\n",
       "      <td>Foreign Evacuees</td>\n",
       "      <td>434</td>\n",
       "      <td>0</td>\n",
       "      <td>434</td>\n",
       "      <td>0</td>\n",
       "      <td>0</td>\n",
       "      <td>0</td>\n",
       "      <td>0</td>\n",
       "      <td>0</td>\n",
       "      <td>0</td>\n",
       "      <td>NaN</td>\n",
       "      <td>NaN</td>\n",
       "    </tr>\n",
       "  </tbody>\n",
       "</table>\n",
       "</div>"
      ],
      "text/plain": [
       "   SlNo State_Code                        State                 District_Key  \\\n",
       "0     0         UN             State Unassigned                UN_Unassigned   \n",
       "1     1         AN  Andaman and Nicobar Islands                  AN_Nicobars   \n",
       "2     2         AN  Andaman and Nicobar Islands  AN_North and Middle Andaman   \n",
       "3     3         AN  Andaman and Nicobar Islands             AN_South Andaman   \n",
       "4     0         AP               Andhra Pradesh          AP_Foreign Evacuees   \n",
       "\n",
       "                   District  Confirmed  Active  Recovered  Deceased  \\\n",
       "0                Unassigned          0       0          0         0   \n",
       "1                  Nicobars          0       0          0         0   \n",
       "2  North and Middle Andaman          1       0          1         0   \n",
       "3             South Andaman         51      19         32         0   \n",
       "4          Foreign Evacuees        434       0        434         0   \n",
       "\n",
       "   Migrated_Other  Delta_Confirmed  Delta_Active  Delta_Recovered  \\\n",
       "0               0                0             0                0   \n",
       "1               0                0             0                0   \n",
       "2               0                0             0                0   \n",
       "3               0                0             0                0   \n",
       "4               0                0             0                0   \n",
       "\n",
       "   Delta_Deceased                                     District_Notes  \\\n",
       "0               0                                                NaN   \n",
       "1               0  District-wise numbers are out-dated as cumulat...   \n",
       "2               0  District-wise numbers are out-dated as cumulat...   \n",
       "3               0  District-wise numbers are out-dated as cumulat...   \n",
       "4               0                                                NaN   \n",
       "\n",
       "   Last_Updated  \n",
       "0           NaN  \n",
       "1           NaN  \n",
       "2           NaN  \n",
       "3           NaN  \n",
       "4           NaN  "
      ]
     },
     "execution_count": 19,
     "metadata": {},
     "output_type": "execute_result"
    }
   ],
   "source": [
    "\n",
    "import types\n",
    "import pandas as pd\n",
    "from botocore.client import Config\n",
    "import ibm_boto3\n",
    "\n",
    "def __iter__(self): return 0\n",
    "\n",
    "# @hidden_cell\n",
    "# The following code accesses a file in your IBM Cloud Object Storage. It includes your credentials.\n",
    "# You might want to remove those credentials before you share the notebook.\n",
    "client_0c6a18c356f947c3aa6a8b97444031dc = ibm_boto3.client(service_name='s3',\n",
    "    ibm_api_key_id='5n1f4AlsuzvWNa7ix4yaz1-3j9-ThoZlXJhKrwVayw_2',\n",
    "    ibm_auth_endpoint=\"https://iam.cloud.ibm.com/oidc/token\",\n",
    "    config=Config(signature_version='oauth'),\n",
    "    endpoint_url='https://s3.eu-geo.objectstorage.service.networklayer.com')\n",
    "\n",
    "body = client_0c6a18c356f947c3aa6a8b97444031dc.get_object(Bucket='viisemproject-donotdelete-pr-v2jj2svyclh816',Key='district_level_latest.csv')['Body']\n",
    "# add missing __iter__ method, so pandas accepts body as file-like object\n",
    "if not hasattr(body, \"__iter__\"): body.__iter__ = types.MethodType( __iter__, body )\n",
    "\n",
    "df = pd.read_csv(body)\n",
    "df.head()\n"
   ]
  },
  {
   "cell_type": "markdown",
   "metadata": {},
   "source": [
    "# Drop Unwanted Column"
   ]
  },
  {
   "cell_type": "code",
   "execution_count": 20,
   "metadata": {},
   "outputs": [],
   "source": [
    "df.drop(['Migrated_Other' , 'Delta_Confirmed' , 'Delta_Active' , 'Delta_Recovered' , 'Delta_Deceased'],axis=1,inplace=True)"
   ]
  },
  {
   "cell_type": "code",
   "execution_count": 21,
   "metadata": {},
   "outputs": [
    {
     "data": {
      "text/html": [
       "<div>\n",
       "<style scoped>\n",
       "    .dataframe tbody tr th:only-of-type {\n",
       "        vertical-align: middle;\n",
       "    }\n",
       "\n",
       "    .dataframe tbody tr th {\n",
       "        vertical-align: top;\n",
       "    }\n",
       "\n",
       "    .dataframe thead th {\n",
       "        text-align: right;\n",
       "    }\n",
       "</style>\n",
       "<table border=\"1\" class=\"dataframe\">\n",
       "  <thead>\n",
       "    <tr style=\"text-align: right;\">\n",
       "      <th></th>\n",
       "      <th>SlNo</th>\n",
       "      <th>State_Code</th>\n",
       "      <th>State</th>\n",
       "      <th>District_Key</th>\n",
       "      <th>District</th>\n",
       "      <th>Confirmed</th>\n",
       "      <th>Active</th>\n",
       "      <th>Recovered</th>\n",
       "      <th>Deceased</th>\n",
       "      <th>District_Notes</th>\n",
       "      <th>Last_Updated</th>\n",
       "    </tr>\n",
       "  </thead>\n",
       "  <tbody>\n",
       "    <tr>\n",
       "      <th>0</th>\n",
       "      <td>0</td>\n",
       "      <td>UN</td>\n",
       "      <td>State Unassigned</td>\n",
       "      <td>UN_Unassigned</td>\n",
       "      <td>Unassigned</td>\n",
       "      <td>0</td>\n",
       "      <td>0</td>\n",
       "      <td>0</td>\n",
       "      <td>0</td>\n",
       "      <td>NaN</td>\n",
       "      <td>NaN</td>\n",
       "    </tr>\n",
       "    <tr>\n",
       "      <th>1</th>\n",
       "      <td>1</td>\n",
       "      <td>AN</td>\n",
       "      <td>Andaman and Nicobar Islands</td>\n",
       "      <td>AN_Nicobars</td>\n",
       "      <td>Nicobars</td>\n",
       "      <td>0</td>\n",
       "      <td>0</td>\n",
       "      <td>0</td>\n",
       "      <td>0</td>\n",
       "      <td>District-wise numbers are out-dated as cumulat...</td>\n",
       "      <td>NaN</td>\n",
       "    </tr>\n",
       "    <tr>\n",
       "      <th>2</th>\n",
       "      <td>2</td>\n",
       "      <td>AN</td>\n",
       "      <td>Andaman and Nicobar Islands</td>\n",
       "      <td>AN_North and Middle Andaman</td>\n",
       "      <td>North and Middle Andaman</td>\n",
       "      <td>1</td>\n",
       "      <td>0</td>\n",
       "      <td>1</td>\n",
       "      <td>0</td>\n",
       "      <td>District-wise numbers are out-dated as cumulat...</td>\n",
       "      <td>NaN</td>\n",
       "    </tr>\n",
       "    <tr>\n",
       "      <th>3</th>\n",
       "      <td>3</td>\n",
       "      <td>AN</td>\n",
       "      <td>Andaman and Nicobar Islands</td>\n",
       "      <td>AN_South Andaman</td>\n",
       "      <td>South Andaman</td>\n",
       "      <td>51</td>\n",
       "      <td>19</td>\n",
       "      <td>32</td>\n",
       "      <td>0</td>\n",
       "      <td>District-wise numbers are out-dated as cumulat...</td>\n",
       "      <td>NaN</td>\n",
       "    </tr>\n",
       "    <tr>\n",
       "      <th>4</th>\n",
       "      <td>0</td>\n",
       "      <td>AP</td>\n",
       "      <td>Andhra Pradesh</td>\n",
       "      <td>AP_Foreign Evacuees</td>\n",
       "      <td>Foreign Evacuees</td>\n",
       "      <td>434</td>\n",
       "      <td>0</td>\n",
       "      <td>434</td>\n",
       "      <td>0</td>\n",
       "      <td>NaN</td>\n",
       "      <td>NaN</td>\n",
       "    </tr>\n",
       "  </tbody>\n",
       "</table>\n",
       "</div>"
      ],
      "text/plain": [
       "   SlNo State_Code                        State                 District_Key  \\\n",
       "0     0         UN             State Unassigned                UN_Unassigned   \n",
       "1     1         AN  Andaman and Nicobar Islands                  AN_Nicobars   \n",
       "2     2         AN  Andaman and Nicobar Islands  AN_North and Middle Andaman   \n",
       "3     3         AN  Andaman and Nicobar Islands             AN_South Andaman   \n",
       "4     0         AP               Andhra Pradesh          AP_Foreign Evacuees   \n",
       "\n",
       "                   District  Confirmed  Active  Recovered  Deceased  \\\n",
       "0                Unassigned          0       0          0         0   \n",
       "1                  Nicobars          0       0          0         0   \n",
       "2  North and Middle Andaman          1       0          1         0   \n",
       "3             South Andaman         51      19         32         0   \n",
       "4          Foreign Evacuees        434       0        434         0   \n",
       "\n",
       "                                      District_Notes  Last_Updated  \n",
       "0                                                NaN           NaN  \n",
       "1  District-wise numbers are out-dated as cumulat...           NaN  \n",
       "2  District-wise numbers are out-dated as cumulat...           NaN  \n",
       "3  District-wise numbers are out-dated as cumulat...           NaN  \n",
       "4                                                NaN           NaN  "
      ]
     },
     "execution_count": 21,
     "metadata": {},
     "output_type": "execute_result"
    }
   ],
   "source": [
    "df.head()"
   ]
  },
  {
   "cell_type": "code",
   "execution_count": 22,
   "metadata": {},
   "outputs": [],
   "source": [
    "df.drop(['Last_Updated'],axis=1,inplace=True)"
   ]
  },
  {
   "cell_type": "code",
   "execution_count": 23,
   "metadata": {},
   "outputs": [
    {
     "data": {
      "text/html": [
       "<div>\n",
       "<style scoped>\n",
       "    .dataframe tbody tr th:only-of-type {\n",
       "        vertical-align: middle;\n",
       "    }\n",
       "\n",
       "    .dataframe tbody tr th {\n",
       "        vertical-align: top;\n",
       "    }\n",
       "\n",
       "    .dataframe thead th {\n",
       "        text-align: right;\n",
       "    }\n",
       "</style>\n",
       "<table border=\"1\" class=\"dataframe\">\n",
       "  <thead>\n",
       "    <tr style=\"text-align: right;\">\n",
       "      <th></th>\n",
       "      <th>SlNo</th>\n",
       "      <th>State_Code</th>\n",
       "      <th>State</th>\n",
       "      <th>District_Key</th>\n",
       "      <th>District</th>\n",
       "      <th>Confirmed</th>\n",
       "      <th>Active</th>\n",
       "      <th>Recovered</th>\n",
       "      <th>Deceased</th>\n",
       "      <th>District_Notes</th>\n",
       "    </tr>\n",
       "  </thead>\n",
       "  <tbody>\n",
       "    <tr>\n",
       "      <th>0</th>\n",
       "      <td>0</td>\n",
       "      <td>UN</td>\n",
       "      <td>State Unassigned</td>\n",
       "      <td>UN_Unassigned</td>\n",
       "      <td>Unassigned</td>\n",
       "      <td>0</td>\n",
       "      <td>0</td>\n",
       "      <td>0</td>\n",
       "      <td>0</td>\n",
       "      <td>NaN</td>\n",
       "    </tr>\n",
       "    <tr>\n",
       "      <th>1</th>\n",
       "      <td>1</td>\n",
       "      <td>AN</td>\n",
       "      <td>Andaman and Nicobar Islands</td>\n",
       "      <td>AN_Nicobars</td>\n",
       "      <td>Nicobars</td>\n",
       "      <td>0</td>\n",
       "      <td>0</td>\n",
       "      <td>0</td>\n",
       "      <td>0</td>\n",
       "      <td>District-wise numbers are out-dated as cumulat...</td>\n",
       "    </tr>\n",
       "    <tr>\n",
       "      <th>2</th>\n",
       "      <td>2</td>\n",
       "      <td>AN</td>\n",
       "      <td>Andaman and Nicobar Islands</td>\n",
       "      <td>AN_North and Middle Andaman</td>\n",
       "      <td>North and Middle Andaman</td>\n",
       "      <td>1</td>\n",
       "      <td>0</td>\n",
       "      <td>1</td>\n",
       "      <td>0</td>\n",
       "      <td>District-wise numbers are out-dated as cumulat...</td>\n",
       "    </tr>\n",
       "    <tr>\n",
       "      <th>3</th>\n",
       "      <td>3</td>\n",
       "      <td>AN</td>\n",
       "      <td>Andaman and Nicobar Islands</td>\n",
       "      <td>AN_South Andaman</td>\n",
       "      <td>South Andaman</td>\n",
       "      <td>51</td>\n",
       "      <td>19</td>\n",
       "      <td>32</td>\n",
       "      <td>0</td>\n",
       "      <td>District-wise numbers are out-dated as cumulat...</td>\n",
       "    </tr>\n",
       "    <tr>\n",
       "      <th>4</th>\n",
       "      <td>0</td>\n",
       "      <td>AP</td>\n",
       "      <td>Andhra Pradesh</td>\n",
       "      <td>AP_Foreign Evacuees</td>\n",
       "      <td>Foreign Evacuees</td>\n",
       "      <td>434</td>\n",
       "      <td>0</td>\n",
       "      <td>434</td>\n",
       "      <td>0</td>\n",
       "      <td>NaN</td>\n",
       "    </tr>\n",
       "  </tbody>\n",
       "</table>\n",
       "</div>"
      ],
      "text/plain": [
       "   SlNo State_Code                        State                 District_Key  \\\n",
       "0     0         UN             State Unassigned                UN_Unassigned   \n",
       "1     1         AN  Andaman and Nicobar Islands                  AN_Nicobars   \n",
       "2     2         AN  Andaman and Nicobar Islands  AN_North and Middle Andaman   \n",
       "3     3         AN  Andaman and Nicobar Islands             AN_South Andaman   \n",
       "4     0         AP               Andhra Pradesh          AP_Foreign Evacuees   \n",
       "\n",
       "                   District  Confirmed  Active  Recovered  Deceased  \\\n",
       "0                Unassigned          0       0          0         0   \n",
       "1                  Nicobars          0       0          0         0   \n",
       "2  North and Middle Andaman          1       0          1         0   \n",
       "3             South Andaman         51      19         32         0   \n",
       "4          Foreign Evacuees        434       0        434         0   \n",
       "\n",
       "                                      District_Notes  \n",
       "0                                                NaN  \n",
       "1  District-wise numbers are out-dated as cumulat...  \n",
       "2  District-wise numbers are out-dated as cumulat...  \n",
       "3  District-wise numbers are out-dated as cumulat...  \n",
       "4                                                NaN  "
      ]
     },
     "execution_count": 23,
     "metadata": {},
     "output_type": "execute_result"
    }
   ],
   "source": [
    "df.head()"
   ]
  },
  {
   "cell_type": "code",
   "execution_count": 24,
   "metadata": {},
   "outputs": [
    {
     "data": {
      "text/html": [
       "<div>\n",
       "<style scoped>\n",
       "    .dataframe tbody tr th:only-of-type {\n",
       "        vertical-align: middle;\n",
       "    }\n",
       "\n",
       "    .dataframe tbody tr th {\n",
       "        vertical-align: top;\n",
       "    }\n",
       "\n",
       "    .dataframe thead th {\n",
       "        text-align: right;\n",
       "    }\n",
       "</style>\n",
       "<table border=\"1\" class=\"dataframe\">\n",
       "  <thead>\n",
       "    <tr style=\"text-align: right;\">\n",
       "      <th></th>\n",
       "      <th>SlNo</th>\n",
       "      <th>State_Code</th>\n",
       "      <th>State</th>\n",
       "      <th>District_Key</th>\n",
       "      <th>District</th>\n",
       "      <th>Confirmed</th>\n",
       "      <th>Active</th>\n",
       "      <th>Recovered</th>\n",
       "      <th>Deceased</th>\n",
       "      <th>District_Notes</th>\n",
       "    </tr>\n",
       "  </thead>\n",
       "  <tbody>\n",
       "    <tr>\n",
       "      <th>795</th>\n",
       "      <td>760</td>\n",
       "      <td>TG</td>\n",
       "      <td>Telangana</td>\n",
       "      <td>TG_Unknown</td>\n",
       "      <td>Unknown</td>\n",
       "      <td>457</td>\n",
       "      <td>-51654</td>\n",
       "      <td>51552</td>\n",
       "      <td>559</td>\n",
       "      <td>NaN</td>\n",
       "    </tr>\n",
       "    <tr>\n",
       "      <th>796</th>\n",
       "      <td>761</td>\n",
       "      <td>TR</td>\n",
       "      <td>Tripura</td>\n",
       "      <td>TR_Unknown</td>\n",
       "      <td>Unknown</td>\n",
       "      <td>0</td>\n",
       "      <td>0</td>\n",
       "      <td>0</td>\n",
       "      <td>0</td>\n",
       "      <td>NaN</td>\n",
       "    </tr>\n",
       "    <tr>\n",
       "      <th>797</th>\n",
       "      <td>762</td>\n",
       "      <td>UP</td>\n",
       "      <td>Uttar Pradesh</td>\n",
       "      <td>UP_Unknown</td>\n",
       "      <td>Unknown</td>\n",
       "      <td>0</td>\n",
       "      <td>0</td>\n",
       "      <td>0</td>\n",
       "      <td>0</td>\n",
       "      <td>NaN</td>\n",
       "    </tr>\n",
       "    <tr>\n",
       "      <th>798</th>\n",
       "      <td>763</td>\n",
       "      <td>UT</td>\n",
       "      <td>Uttarakhand</td>\n",
       "      <td>UT_Unknown</td>\n",
       "      <td>Unknown</td>\n",
       "      <td>0</td>\n",
       "      <td>0</td>\n",
       "      <td>0</td>\n",
       "      <td>0</td>\n",
       "      <td>NaN</td>\n",
       "    </tr>\n",
       "    <tr>\n",
       "      <th>799</th>\n",
       "      <td>764</td>\n",
       "      <td>WB</td>\n",
       "      <td>West Bengal</td>\n",
       "      <td>WB_Unknown</td>\n",
       "      <td>Unknown</td>\n",
       "      <td>0</td>\n",
       "      <td>0</td>\n",
       "      <td>0</td>\n",
       "      <td>0</td>\n",
       "      <td>NaN</td>\n",
       "    </tr>\n",
       "  </tbody>\n",
       "</table>\n",
       "</div>"
      ],
      "text/plain": [
       "     SlNo State_Code          State District_Key District  Confirmed  Active  \\\n",
       "795   760         TG      Telangana   TG_Unknown  Unknown        457  -51654   \n",
       "796   761         TR        Tripura   TR_Unknown  Unknown          0       0   \n",
       "797   762         UP  Uttar Pradesh   UP_Unknown  Unknown          0       0   \n",
       "798   763         UT    Uttarakhand   UT_Unknown  Unknown          0       0   \n",
       "799   764         WB    West Bengal   WB_Unknown  Unknown          0       0   \n",
       "\n",
       "     Recovered  Deceased District_Notes  \n",
       "795      51552       559            NaN  \n",
       "796          0         0            NaN  \n",
       "797          0         0            NaN  \n",
       "798          0         0            NaN  \n",
       "799          0         0            NaN  "
      ]
     },
     "execution_count": 24,
     "metadata": {},
     "output_type": "execute_result"
    }
   ],
   "source": [
    "df.tail()"
   ]
  },
  {
   "cell_type": "code",
   "execution_count": 25,
   "metadata": {},
   "outputs": [
    {
     "data": {
      "text/html": [
       "<div>\n",
       "<style scoped>\n",
       "    .dataframe tbody tr th:only-of-type {\n",
       "        vertical-align: middle;\n",
       "    }\n",
       "\n",
       "    .dataframe tbody tr th {\n",
       "        vertical-align: top;\n",
       "    }\n",
       "\n",
       "    .dataframe thead th {\n",
       "        text-align: right;\n",
       "    }\n",
       "</style>\n",
       "<table border=\"1\" class=\"dataframe\">\n",
       "  <thead>\n",
       "    <tr style=\"text-align: right;\">\n",
       "      <th></th>\n",
       "      <th>SlNo</th>\n",
       "      <th>Confirmed</th>\n",
       "      <th>Active</th>\n",
       "      <th>Recovered</th>\n",
       "      <th>Deceased</th>\n",
       "    </tr>\n",
       "  </thead>\n",
       "  <tbody>\n",
       "    <tr>\n",
       "      <th>count</th>\n",
       "      <td>800.000000</td>\n",
       "      <td>800.000000</td>\n",
       "      <td>800.000000</td>\n",
       "      <td>800.000000</td>\n",
       "      <td>800.000000</td>\n",
       "    </tr>\n",
       "    <tr>\n",
       "      <th>mean</th>\n",
       "      <td>372.795000</td>\n",
       "      <td>2531.761250</td>\n",
       "      <td>757.375000</td>\n",
       "      <td>1721.730000</td>\n",
       "      <td>52.047500</td>\n",
       "    </tr>\n",
       "    <tr>\n",
       "      <th>std</th>\n",
       "      <td>229.978462</td>\n",
       "      <td>9943.527079</td>\n",
       "      <td>3441.593212</td>\n",
       "      <td>7780.589126</td>\n",
       "      <td>329.479664</td>\n",
       "    </tr>\n",
       "    <tr>\n",
       "      <th>min</th>\n",
       "      <td>0.000000</td>\n",
       "      <td>0.000000</td>\n",
       "      <td>-51654.000000</td>\n",
       "      <td>0.000000</td>\n",
       "      <td>0.000000</td>\n",
       "    </tr>\n",
       "    <tr>\n",
       "      <th>25%</th>\n",
       "      <td>172.750000</td>\n",
       "      <td>190.500000</td>\n",
       "      <td>48.750000</td>\n",
       "      <td>69.000000</td>\n",
       "      <td>0.000000</td>\n",
       "    </tr>\n",
       "    <tr>\n",
       "      <th>50%</th>\n",
       "      <td>372.500000</td>\n",
       "      <td>628.000000</td>\n",
       "      <td>210.500000</td>\n",
       "      <td>377.500000</td>\n",
       "      <td>4.000000</td>\n",
       "    </tr>\n",
       "    <tr>\n",
       "      <th>75%</th>\n",
       "      <td>572.250000</td>\n",
       "      <td>1615.000000</td>\n",
       "      <td>549.250000</td>\n",
       "      <td>988.750000</td>\n",
       "      <td>17.000000</td>\n",
       "    </tr>\n",
       "    <tr>\n",
       "      <th>max</th>\n",
       "      <td>766.000000</td>\n",
       "      <td>140743.000000</td>\n",
       "      <td>41121.000000</td>\n",
       "      <td>127124.000000</td>\n",
       "      <td>6648.000000</td>\n",
       "    </tr>\n",
       "  </tbody>\n",
       "</table>\n",
       "</div>"
      ],
      "text/plain": [
       "             SlNo      Confirmed        Active      Recovered     Deceased\n",
       "count  800.000000     800.000000    800.000000     800.000000   800.000000\n",
       "mean   372.795000    2531.761250    757.375000    1721.730000    52.047500\n",
       "std    229.978462    9943.527079   3441.593212    7780.589126   329.479664\n",
       "min      0.000000       0.000000 -51654.000000       0.000000     0.000000\n",
       "25%    172.750000     190.500000     48.750000      69.000000     0.000000\n",
       "50%    372.500000     628.000000    210.500000     377.500000     4.000000\n",
       "75%    572.250000    1615.000000    549.250000     988.750000    17.000000\n",
       "max    766.000000  140743.000000  41121.000000  127124.000000  6648.000000"
      ]
     },
     "execution_count": 25,
     "metadata": {},
     "output_type": "execute_result"
    }
   ],
   "source": [
    "df.describe()"
   ]
  },
  {
   "cell_type": "code",
   "execution_count": 26,
   "metadata": {},
   "outputs": [],
   "source": [
    "# creating copies of the given data\n",
    "df = df.copy(deep = False)"
   ]
  },
  {
   "cell_type": "code",
   "execution_count": 27,
   "metadata": {},
   "outputs": [
    {
     "data": {
      "text/plain": [
       "(800, 10)"
      ]
     },
     "execution_count": 27,
     "metadata": {},
     "output_type": "execute_result"
    }
   ],
   "source": [
    "df.shape"
   ]
  },
  {
   "cell_type": "code",
   "execution_count": 28,
   "metadata": {},
   "outputs": [
    {
     "data": {
      "text/plain": [
       "8000"
      ]
     },
     "execution_count": 28,
     "metadata": {},
     "output_type": "execute_result"
    }
   ],
   "source": [
    "df.size"
   ]
  },
  {
   "cell_type": "code",
   "execution_count": 29,
   "metadata": {},
   "outputs": [
    {
     "data": {
      "text/plain": [
       "Index(['SlNo', 'State_Code', 'State', 'District_Key', 'District', 'Confirmed',\n",
       "       'Active', 'Recovered', 'Deceased', 'District_Notes'],\n",
       "      dtype='object')"
      ]
     },
     "execution_count": 29,
     "metadata": {},
     "output_type": "execute_result"
    }
   ],
   "source": [
    "df.columns"
   ]
  },
  {
   "cell_type": "code",
   "execution_count": 30,
   "metadata": {},
   "outputs": [],
   "source": [
    "# Importing Libraries"
   ]
  },
  {
   "cell_type": "code",
   "execution_count": 31,
   "metadata": {},
   "outputs": [],
   "source": [
    "import numpy as np\n",
    "import seaborn as sns\n",
    "import matplotlib.pyplot as plt"
   ]
  },
  {
   "cell_type": "markdown",
   "metadata": {},
   "source": [
    "# Inspect the Data Frame"
   ]
  },
  {
   "cell_type": "code",
   "execution_count": 32,
   "metadata": {},
   "outputs": [
    {
     "name": "stdout",
     "output_type": "stream",
     "text": [
      "<class 'pandas.core.frame.DataFrame'>\n",
      "RangeIndex: 800 entries, 0 to 799\n",
      "Data columns (total 10 columns):\n",
      " #   Column          Non-Null Count  Dtype \n",
      "---  ------          --------------  ----- \n",
      " 0   SlNo            800 non-null    int64 \n",
      " 1   State_Code      800 non-null    object\n",
      " 2   State           800 non-null    object\n",
      " 3   District_Key    800 non-null    object\n",
      " 4   District        800 non-null    object\n",
      " 5   Confirmed       800 non-null    int64 \n",
      " 6   Active          800 non-null    int64 \n",
      " 7   Recovered       800 non-null    int64 \n",
      " 8   Deceased        800 non-null    int64 \n",
      " 9   District_Notes  60 non-null     object\n",
      "dtypes: int64(5), object(5)\n",
      "memory usage: 62.6+ KB\n"
     ]
    }
   ],
   "source": [
    "df.info()"
   ]
  },
  {
   "cell_type": "markdown",
   "metadata": {},
   "source": [
    "# Inspect Null Values in each Column"
   ]
  },
  {
   "cell_type": "code",
   "execution_count": 33,
   "metadata": {},
   "outputs": [
    {
     "data": {
      "text/plain": [
       "District_Notes    92.5\n",
       "Deceased           0.0\n",
       "Recovered          0.0\n",
       "Active             0.0\n",
       "Confirmed          0.0\n",
       "District           0.0\n",
       "District_Key       0.0\n",
       "State              0.0\n",
       "State_Code         0.0\n",
       "SlNo               0.0\n",
       "dtype: float64"
      ]
     },
     "execution_count": 33,
     "metadata": {},
     "output_type": "execute_result"
    }
   ],
   "source": [
    "round(df.isnull().sum(axis=0).sort_values(ascending=False)/len(df)*100,2)"
   ]
  },
  {
   "cell_type": "markdown",
   "metadata": {},
   "source": [
    "# Inspect Null Values in each Row"
   ]
  },
  {
   "cell_type": "code",
   "execution_count": 34,
   "metadata": {},
   "outputs": [
    {
     "data": {
      "text/plain": [
       "799    1\n",
       "263    1\n",
       "285    1\n",
       "284    1\n",
       "283    1\n",
       "      ..\n",
       "574    0\n",
       "575    0\n",
       "576    0\n",
       "577    0\n",
       "603    0\n",
       "Length: 800, dtype: int64"
      ]
     },
     "execution_count": 34,
     "metadata": {},
     "output_type": "execute_result"
    }
   ],
   "source": [
    "df.isnull().sum(axis=1).sort_values(ascending=False)"
   ]
  },
  {
   "cell_type": "markdown",
   "metadata": {},
   "source": [
    "# Total Covid_19 Cases State Wise"
   ]
  },
  {
   "cell_type": "code",
   "execution_count": 35,
   "metadata": {},
   "outputs": [
    {
     "data": {
      "text/plain": [
       "State\n",
       "Andaman and Nicobar Islands                   1123\n",
       "Andhra Pradesh                              196789\n",
       "Arunachal Pradesh                             1948\n",
       "Assam                                        52818\n",
       "Bihar                                        68148\n",
       "Chandigarh                                    1327\n",
       "Chhattisgarh                                 11020\n",
       "Dadra and Nagar Haveli and Daman and Diu      1415\n",
       "Delhi                                       141531\n",
       "Goa                                           7614\n",
       "Gujarat                                      67811\n",
       "Haryana                                      39303\n",
       "Himachal Pradesh                              3047\n",
       "Jammu and Kashmir                            23454\n",
       "Jharkhand                                    15756\n",
       "Karnataka                                   158254\n",
       "Kerala                                       30449\n",
       "Ladakh                                        1595\n",
       "Lakshadweep                                      0\n",
       "Madhya Pradesh                               36564\n",
       "Maharashtra                                 479779\n",
       "Manipur                                       3217\n",
       "Meghalaya                                      990\n",
       "Mizoram                                        538\n",
       "Nagaland                                      2580\n",
       "Odisha                                       40717\n",
       "Puducherry                                    4621\n",
       "Punjab                                       20891\n",
       "Rajasthan                                    48996\n",
       "Sikkim                                         829\n",
       "State Unassigned                                 0\n",
       "Tamil Nadu                                  279144\n",
       "Telangana                                    73050\n",
       "Tripura                                       5740\n",
       "Uttar Pradesh                               108974\n",
       "Uttarakhand                                   8623\n",
       "West Bengal                                  86754\n",
       "Name: Confirmed, dtype: int64"
      ]
     },
     "execution_count": 35,
     "metadata": {},
     "output_type": "execute_result"
    }
   ],
   "source": [
    "df.groupby('State')['Confirmed'].sum()"
   ]
  },
  {
   "cell_type": "code",
   "execution_count": 38,
   "metadata": {},
   "outputs": [
    {
     "data": {
      "text/plain": [
       "State\n",
       "Andaman and Nicobar Islands                    752\n",
       "Andhra Pradesh                               82166\n",
       "Arunachal Pradesh                              700\n",
       "Assam                                        15431\n",
       "Bihar                                        23939\n",
       "Chandigarh                                     529\n",
       "Chhattisgarh                                  2855\n",
       "Dadra and Nagar Haveli and Daman and Diu       406\n",
       "Delhi                                        10348\n",
       "Goa                                           2095\n",
       "Gujarat                                      14708\n",
       "Haryana                                       6205\n",
       "Himachal Pradesh                              1141\n",
       "Jammu and Kashmir                             7310\n",
       "Jharkhand                                     9017\n",
       "Karnataka                                    75067\n",
       "Kerala                                       11983\n",
       "Ladakh                                         411\n",
       "Lakshadweep                                      0\n",
       "Madhya Pradesh                                8716\n",
       "Maharashtra                                 146305\n",
       "Manipur                                       1304\n",
       "Meghalaya                                      640\n",
       "Mizoram                                        249\n",
       "Nagaland                                      1752\n",
       "Odisha                                       13549\n",
       "Puducherry                                    1743\n",
       "Punjab                                        6715\n",
       "Rajasthan                                    13108\n",
       "Sikkim                                         475\n",
       "State Unassigned                                 0\n",
       "Tamil Nadu                                   53486\n",
       "Telangana                                    20358\n",
       "Tripura                                       1898\n",
       "Uttar Pradesh                                43654\n",
       "Uttarakhand                                   3056\n",
       "West Bengal                                  23829\n",
       "Name: Active, dtype: int64"
      ]
     },
     "execution_count": 38,
     "metadata": {},
     "output_type": "execute_result"
    }
   ],
   "source": [
    "df.groupby('State')['Active'].sum()"
   ]
  },
  {
   "cell_type": "code",
   "execution_count": 41,
   "metadata": {},
   "outputs": [
    {
     "data": {
      "text/plain": [
       "State\n",
       "Andaman and Nicobar Islands                    355\n",
       "Andhra Pradesh                              112870\n",
       "Arunachal Pradesh                             1245\n",
       "Assam                                        37225\n",
       "Bihar                                        43820\n",
       "Chandigarh                                     777\n",
       "Chhattisgarh                                  8088\n",
       "Dadra and Nagar Haveli and Daman and Diu       997\n",
       "Delhi                                       127124\n",
       "Goa                                           5453\n",
       "Gujarat                                      50524\n",
       "Haryana                                      32640\n",
       "Himachal Pradesh                              1865\n",
       "Jammu and Kashmir                            15708\n",
       "Jharkhand                                     6594\n",
       "Karnataka                                    80281\n",
       "Kerala                                       18333\n",
       "Ladakh                                        1177\n",
       "Lakshadweep                                      0\n",
       "Madhya Pradesh                               26902\n",
       "Maharashtra                                 316375\n",
       "Manipur                                       1905\n",
       "Meghalaya                                      345\n",
       "Mizoram                                        288\n",
       "Nagaland                                       819\n",
       "Odisha                                       26888\n",
       "Puducherry                                    2808\n",
       "Punjab                                       13659\n",
       "Rajasthan                                    35131\n",
       "Sikkim                                         353\n",
       "State Unassigned                                 0\n",
       "Tamil Nadu                                  221087\n",
       "Telangana                                    52103\n",
       "Tripura                                       3793\n",
       "Uttar Pradesh                                63402\n",
       "Uttarakhand                                   5427\n",
       "West Bengal                                  61023\n",
       "Name: Recovered, dtype: int64"
      ]
     },
     "execution_count": 41,
     "metadata": {},
     "output_type": "execute_result"
    }
   ],
   "source": [
    "df.groupby('State')['Recovered'].sum()"
   ]
  },
  {
   "cell_type": "code",
   "execution_count": 44,
   "metadata": {},
   "outputs": [
    {
     "data": {
      "text/plain": [
       "State\n",
       "Andaman and Nicobar Islands                    16\n",
       "Andhra Pradesh                               1753\n",
       "Arunachal Pradesh                               3\n",
       "Assam                                         126\n",
       "Bihar                                         388\n",
       "Chandigarh                                     20\n",
       "Chhattisgarh                                   77\n",
       "Dadra and Nagar Haveli and Daman and Diu        2\n",
       "Delhi                                        4059\n",
       "Goa                                            66\n",
       "Gujarat                                      2579\n",
       "Haryana                                       458\n",
       "Himachal Pradesh                               13\n",
       "Jammu and Kashmir                             436\n",
       "Jharkhand                                     145\n",
       "Karnataka                                    2897\n",
       "Kerala                                         98\n",
       "Ladakh                                          7\n",
       "Lakshadweep                                     0\n",
       "Madhya Pradesh                                946\n",
       "Maharashtra                                 16792\n",
       "Manipur                                         8\n",
       "Meghalaya                                       5\n",
       "Mizoram                                         0\n",
       "Nagaland                                        6\n",
       "Odisha                                        280\n",
       "Puducherry                                     70\n",
       "Punjab                                        517\n",
       "Rajasthan                                     757\n",
       "Sikkim                                          1\n",
       "State Unassigned                                0\n",
       "Tamil Nadu                                   4571\n",
       "Telangana                                     589\n",
       "Tripura                                        31\n",
       "Uttar Pradesh                                1918\n",
       "Uttarakhand                                   102\n",
       "West Bengal                                  1902\n",
       "Name: Deceased, dtype: int64"
      ]
     },
     "execution_count": 44,
     "metadata": {},
     "output_type": "execute_result"
    }
   ],
   "source": [
    "df.groupby('State')['Deceased'].sum()"
   ]
  },
  {
   "cell_type": "code",
   "execution_count": 53,
   "metadata": {},
   "outputs": [
    {
     "data": {
      "text/plain": [
       "Index(['SlNo', 'State_Code', 'State', 'District_Key', 'District', 'Confirmed',\n",
       "       'Active', 'Recovered', 'Deceased', 'District_Notes'],\n",
       "      dtype='object')"
      ]
     },
     "execution_count": 53,
     "metadata": {},
     "output_type": "execute_result"
    }
   ],
   "source": [
    "df.columns"
   ]
  },
  {
   "cell_type": "code",
   "execution_count": 55,
   "metadata": {},
   "outputs": [
    {
     "data": {
      "text/plain": [
       "<seaborn.axisgrid.FacetGrid at 0x7f266a026990>"
      ]
     },
     "execution_count": 55,
     "metadata": {},
     "output_type": "execute_result"
    },
    {
     "data": {
      "image/png": "[encoded data removed]",
      "text/plain": [
       "<Figure size 360x360 with 1 Axes>"
      ]
     },
     "metadata": {
      "needs_background": "light"
     },
     "output_type": "display_data"
    }
   ],
   "source": [
    "sns.relplot(x='Confirmed' , y='Recovered' , kind='line' , data=df)"
   ]
  },
  {
   "cell_type": "code",
   "execution_count": 56,
   "metadata": {},
   "outputs": [
    {
     "data": {
      "text/plain": [
       "<seaborn.axisgrid.FacetGrid at 0x7f266a05dd90>"
      ]
     },
     "execution_count": 56,
     "metadata": {},
     "output_type": "execute_result"
    },
    {
     "data": {
      "image/png": "[encoded data removed]",
      "text/plain": [
       "<Figure size 360x360 with 1 Axes>"
      ]
     },
     "metadata": {
      "needs_background": "light"
     },
     "output_type": "display_data"
    }
   ],
   "source": [
    "sns.relplot(x='Confirmed' , y='Active' , kind='line' , data=df)"
   ]
  },
  {
   "cell_type": "code",
   "execution_count": 57,
   "metadata": {},
   "outputs": [
    {
     "data": {
      "text/plain": [
       "<seaborn.axisgrid.FacetGrid at 0x7f266a045750>"
      ]
     },
     "execution_count": 57,
     "metadata": {},
     "output_type": "execute_result"
    },
    {
     "data": {
      "image/png": "[encoded data removed]",
      "text/plain": [
       "<Figure size 360x360 with 1 Axes>"
      ]
     },
     "metadata": {
      "needs_background": "light"
     },
     "output_type": "display_data"
    }
   ],
   "source": [
    "sns.relplot(x='Confirmed' , y='Deceased' , kind='line' , data=df)"
   ]
  }
 ],
 "metadata": {
  "kernelspec": {
   "display_name": "Python 3.7",
   "language": "python",
   "name": "python3"
  },
  "language_info": {
   "codemirror_mode": {
    "name": "ipython",
    "version": 3
   },
   "file_extension": ".py",
   "mimetype": "text/x-python",
   "name": "python",
   "nbconvert_exporter": "python",
   "pygments_lexer": "ipython3",
   "version": "3.7.10"
  }
 },
 "nbformat": 4,
 "nbformat_minor": 1
}
