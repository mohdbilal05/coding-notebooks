{
 "cells": [
  {
   "cell_type": "code",
   "execution_count": 1,
   "id": "ef3457a1-9b17-4042-875b-0f2df03da980",
   "metadata": {},
   "outputs": [],
   "source": [
    "# importing libraries\n",
    "import pandas as pd\n",
    "import numpy as np                     # For mathematical calculations\n",
    "import seaborn as sns                  # For data visualization\n",
    "import matplotlib.pyplot as plt \n",
    "import seaborn as sn                   # For plotting graphs"
   ]
  },
  {
   "cell_type": "code",
   "execution_count": 2,
   "id": "2b453686-c4a0-4adb-be66-fd9319a2b9b8",
   "metadata": {},
   "outputs": [],
   "source": [
    "df = pd.read_csv(\"heart.csv\")"
   ]
  },
  {
   "cell_type": "code",
   "execution_count": 3,
   "id": "e3445f7b-8803-4967-af37-8c5bfbf86493",
   "metadata": {},
   "outputs": [
    {
     "data": {
      "text/html": [
       "<div>\n",
       "<style scoped>\n",
       "    .dataframe tbody tr th:only-of-type {\n",
       "        vertical-align: middle;\n",
       "    }\n",
       "\n",
       "    .dataframe tbody tr th {\n",
       "        vertical-align: top;\n",
       "    }\n",
       "\n",
       "    .dataframe thead th {\n",
       "        text-align: right;\n",
       "    }\n",
       "</style>\n",
       "<table border=\"1\" class=\"dataframe\">\n",
       "  <thead>\n",
       "    <tr style=\"text-align: right;\">\n",
       "      <th></th>\n",
       "      <th>Age</th>\n",
       "      <th>Sex</th>\n",
       "      <th>ChestPainType</th>\n",
       "      <th>RestingBP</th>\n",
       "      <th>Cholesterol</th>\n",
       "      <th>FastingBS</th>\n",
       "      <th>RestingECG</th>\n",
       "      <th>MaxHR</th>\n",
       "      <th>ExerciseAngina</th>\n",
       "      <th>Oldpeak</th>\n",
       "      <th>ST_Slope</th>\n",
       "      <th>HeartDisease</th>\n",
       "    </tr>\n",
       "  </thead>\n",
       "  <tbody>\n",
       "    <tr>\n",
       "      <th>0</th>\n",
       "      <td>40</td>\n",
       "      <td>M</td>\n",
       "      <td>ATA</td>\n",
       "      <td>140</td>\n",
       "      <td>289</td>\n",
       "      <td>0</td>\n",
       "      <td>Normal</td>\n",
       "      <td>172</td>\n",
       "      <td>N</td>\n",
       "      <td>0.0</td>\n",
       "      <td>Up</td>\n",
       "      <td>0</td>\n",
       "    </tr>\n",
       "    <tr>\n",
       "      <th>1</th>\n",
       "      <td>49</td>\n",
       "      <td>F</td>\n",
       "      <td>NAP</td>\n",
       "      <td>160</td>\n",
       "      <td>180</td>\n",
       "      <td>0</td>\n",
       "      <td>Normal</td>\n",
       "      <td>156</td>\n",
       "      <td>N</td>\n",
       "      <td>1.0</td>\n",
       "      <td>Flat</td>\n",
       "      <td>1</td>\n",
       "    </tr>\n",
       "    <tr>\n",
       "      <th>2</th>\n",
       "      <td>37</td>\n",
       "      <td>M</td>\n",
       "      <td>ATA</td>\n",
       "      <td>130</td>\n",
       "      <td>283</td>\n",
       "      <td>0</td>\n",
       "      <td>ST</td>\n",
       "      <td>98</td>\n",
       "      <td>N</td>\n",
       "      <td>0.0</td>\n",
       "      <td>Up</td>\n",
       "      <td>0</td>\n",
       "    </tr>\n",
       "    <tr>\n",
       "      <th>3</th>\n",
       "      <td>48</td>\n",
       "      <td>F</td>\n",
       "      <td>ASY</td>\n",
       "      <td>138</td>\n",
       "      <td>214</td>\n",
       "      <td>0</td>\n",
       "      <td>Normal</td>\n",
       "      <td>108</td>\n",
       "      <td>Y</td>\n",
       "      <td>1.5</td>\n",
       "      <td>Flat</td>\n",
       "      <td>1</td>\n",
       "    </tr>\n",
       "    <tr>\n",
       "      <th>4</th>\n",
       "      <td>54</td>\n",
       "      <td>M</td>\n",
       "      <td>NAP</td>\n",
       "      <td>150</td>\n",
       "      <td>195</td>\n",
       "      <td>0</td>\n",
       "      <td>Normal</td>\n",
       "      <td>122</td>\n",
       "      <td>N</td>\n",
       "      <td>0.0</td>\n",
       "      <td>Up</td>\n",
       "      <td>0</td>\n",
       "    </tr>\n",
       "  </tbody>\n",
       "</table>\n",
       "</div>"
      ],
      "text/plain": [
       "   Age Sex ChestPainType  RestingBP  Cholesterol  FastingBS RestingECG  MaxHR  \\\n",
       "0   40   M           ATA        140          289          0     Normal    172   \n",
       "1   49   F           NAP        160          180          0     Normal    156   \n",
       "2   37   M           ATA        130          283          0         ST     98   \n",
       "3   48   F           ASY        138          214          0     Normal    108   \n",
       "4   54   M           NAP        150          195          0     Normal    122   \n",
       "\n",
       "  ExerciseAngina  Oldpeak ST_Slope  HeartDisease  \n",
       "0              N      0.0       Up             0  \n",
       "1              N      1.0     Flat             1  \n",
       "2              N      0.0       Up             0  \n",
       "3              Y      1.5     Flat             1  \n",
       "4              N      0.0       Up             0  "
      ]
     },
     "execution_count": 3,
     "metadata": {},
     "output_type": "execute_result"
    }
   ],
   "source": [
    "df.head()"
   ]
  },
  {
   "cell_type": "code",
   "execution_count": 4,
   "id": "fb6b66af-576b-4cad-a7b0-db51f99f59e0",
   "metadata": {},
   "outputs": [
    {
     "data": {
      "text/plain": [
       "Index(['Age', 'Sex', 'ChestPainType', 'RestingBP', 'Cholesterol', 'FastingBS',\n",
       "       'RestingECG', 'MaxHR', 'ExerciseAngina', 'Oldpeak', 'ST_Slope',\n",
       "       'HeartDisease'],\n",
       "      dtype='object')"
      ]
     },
     "execution_count": 4,
     "metadata": {},
     "output_type": "execute_result"
    }
   ],
   "source": [
    "df.columns"
   ]
  },
  {
   "cell_type": "code",
   "execution_count": 5,
   "id": "aeb56495-67ed-4fd5-bfa5-153e4671f3fc",
   "metadata": {},
   "outputs": [
    {
     "data": {
      "text/plain": [
       "array(['M', 'F'], dtype=object)"
      ]
     },
     "execution_count": 5,
     "metadata": {},
     "output_type": "execute_result"
    }
   ],
   "source": [
    "df.Sex.unique()"
   ]
  },
  {
   "cell_type": "code",
   "execution_count": 6,
   "id": "9cdd1d9c-fa30-40e6-8cfe-5194bde9bd8b",
   "metadata": {},
   "outputs": [
    {
     "data": {
      "text/plain": [
       "array(['ATA', 'NAP', 'ASY', 'TA'], dtype=object)"
      ]
     },
     "execution_count": 6,
     "metadata": {},
     "output_type": "execute_result"
    }
   ],
   "source": [
    "df.ChestPainType.unique()"
   ]
  },
  {
   "cell_type": "code",
   "execution_count": 7,
   "id": "f3b22f2c-66c2-4742-a3ce-308957005d29",
   "metadata": {},
   "outputs": [
    {
     "data": {
      "text/plain": [
       "array(['Normal', 'ST', 'LVH'], dtype=object)"
      ]
     },
     "execution_count": 7,
     "metadata": {},
     "output_type": "execute_result"
    }
   ],
   "source": [
    "df.RestingECG.unique()"
   ]
  },
  {
   "cell_type": "code",
   "execution_count": 8,
   "id": "ee9d5328-5a17-40d9-9801-e1192cb6c795",
   "metadata": {},
   "outputs": [
    {
     "data": {
      "text/plain": [
       "array(['N', 'Y'], dtype=object)"
      ]
     },
     "execution_count": 8,
     "metadata": {},
     "output_type": "execute_result"
    }
   ],
   "source": [
    "df.ExerciseAngina.unique()"
   ]
  },
  {
   "cell_type": "code",
   "execution_count": 9,
   "id": "272da23f-1ac5-40cf-ad66-6d1ba8b7d21d",
   "metadata": {},
   "outputs": [
    {
     "data": {
      "text/plain": [
       "array(['Up', 'Flat', 'Down'], dtype=object)"
      ]
     },
     "execution_count": 9,
     "metadata": {},
     "output_type": "execute_result"
    }
   ],
   "source": [
    "df.ST_Slope.unique()"
   ]
  },
  {
   "cell_type": "code",
   "execution_count": 10,
   "id": "5271b000-cf4e-4486-b79a-f1702aa7dc3b",
   "metadata": {},
   "outputs": [
    {
     "data": {
      "text/plain": [
       "array([ 0. ,  1. ,  1.5,  2. ,  3. ,  4. ,  0.5,  2.5,  5. ,  0.8,  0.7,\n",
       "        1.4,  2.1,  0.4,  0.2,  1.7,  2.2,  0.1,  1.6,  1.3,  0.3,  1.8,\n",
       "        2.6, -0.9,  2.8, -2.6, -1.5, -0.1,  0.9,  1.1,  2.4, -1. , -1.1,\n",
       "       -0.7, -0.8,  3.7,  1.2, -0.5, -2. ,  1.9,  3.5,  0.6,  3.1,  2.3,\n",
       "        3.4,  3.6,  4.2,  3.2,  5.6,  3.8,  2.9,  6.2,  4.4])"
      ]
     },
     "execution_count": 10,
     "metadata": {},
     "output_type": "execute_result"
    }
   ],
   "source": [
    "df.Oldpeak.unique()"
   ]
  },
  {
   "cell_type": "code",
   "execution_count": 11,
   "id": "b8c792ea-a7c2-44e3-bf6f-9fba38cb661e",
   "metadata": {},
   "outputs": [],
   "source": [
    "df['Sex'] = df.Sex.map({'M':0, 'F':1})\n",
    "df['ChestPainType'] = df.ChestPainType.map({'ATA':0, 'NAP':1, 'ASY':2, 'TA':3})\n",
    "df['RestingECG'] = df.RestingECG.map({'Normal':0, 'ST':1, 'LVH':2})\n",
    "df['ExerciseAngina'] = df.ExerciseAngina.map({'N':0, 'Y':1})\n",
    "df['ST_Slope'] = df.ST_Slope.map({'Up':0, 'Flat':1,'Down':2})"
   ]
  },
  {
   "cell_type": "code",
   "execution_count": 12,
   "id": "10077bcb-8ea7-4b80-aec8-6d254b3e9a31",
   "metadata": {},
   "outputs": [],
   "source": [
    "df['Oldpeak'] = df['Oldpeak'].astype(int)"
   ]
  },
  {
   "cell_type": "code",
   "execution_count": 13,
   "id": "673d3a07-a8eb-4aeb-911d-fa5396006ed5",
   "metadata": {},
   "outputs": [
    {
     "data": {
      "text/html": [
       "<div>\n",
       "<style scoped>\n",
       "    .dataframe tbody tr th:only-of-type {\n",
       "        vertical-align: middle;\n",
       "    }\n",
       "\n",
       "    .dataframe tbody tr th {\n",
       "        vertical-align: top;\n",
       "    }\n",
       "\n",
       "    .dataframe thead th {\n",
       "        text-align: right;\n",
       "    }\n",
       "</style>\n",
       "<table border=\"1\" class=\"dataframe\">\n",
       "  <thead>\n",
       "    <tr style=\"text-align: right;\">\n",
       "      <th></th>\n",
       "      <th>Age</th>\n",
       "      <th>Sex</th>\n",
       "      <th>ChestPainType</th>\n",
       "      <th>RestingBP</th>\n",
       "      <th>Cholesterol</th>\n",
       "      <th>FastingBS</th>\n",
       "      <th>RestingECG</th>\n",
       "      <th>MaxHR</th>\n",
       "      <th>ExerciseAngina</th>\n",
       "      <th>Oldpeak</th>\n",
       "      <th>ST_Slope</th>\n",
       "      <th>HeartDisease</th>\n",
       "    </tr>\n",
       "  </thead>\n",
       "  <tbody>\n",
       "    <tr>\n",
       "      <th>0</th>\n",
       "      <td>40</td>\n",
       "      <td>0</td>\n",
       "      <td>0</td>\n",
       "      <td>140</td>\n",
       "      <td>289</td>\n",
       "      <td>0</td>\n",
       "      <td>0</td>\n",
       "      <td>172</td>\n",
       "      <td>0</td>\n",
       "      <td>0</td>\n",
       "      <td>0</td>\n",
       "      <td>0</td>\n",
       "    </tr>\n",
       "    <tr>\n",
       "      <th>1</th>\n",
       "      <td>49</td>\n",
       "      <td>1</td>\n",
       "      <td>1</td>\n",
       "      <td>160</td>\n",
       "      <td>180</td>\n",
       "      <td>0</td>\n",
       "      <td>0</td>\n",
       "      <td>156</td>\n",
       "      <td>0</td>\n",
       "      <td>1</td>\n",
       "      <td>1</td>\n",
       "      <td>1</td>\n",
       "    </tr>\n",
       "    <tr>\n",
       "      <th>2</th>\n",
       "      <td>37</td>\n",
       "      <td>0</td>\n",
       "      <td>0</td>\n",
       "      <td>130</td>\n",
       "      <td>283</td>\n",
       "      <td>0</td>\n",
       "      <td>1</td>\n",
       "      <td>98</td>\n",
       "      <td>0</td>\n",
       "      <td>0</td>\n",
       "      <td>0</td>\n",
       "      <td>0</td>\n",
       "    </tr>\n",
       "    <tr>\n",
       "      <th>3</th>\n",
       "      <td>48</td>\n",
       "      <td>1</td>\n",
       "      <td>2</td>\n",
       "      <td>138</td>\n",
       "      <td>214</td>\n",
       "      <td>0</td>\n",
       "      <td>0</td>\n",
       "      <td>108</td>\n",
       "      <td>1</td>\n",
       "      <td>1</td>\n",
       "      <td>1</td>\n",
       "      <td>1</td>\n",
       "    </tr>\n",
       "    <tr>\n",
       "      <th>4</th>\n",
       "      <td>54</td>\n",
       "      <td>0</td>\n",
       "      <td>1</td>\n",
       "      <td>150</td>\n",
       "      <td>195</td>\n",
       "      <td>0</td>\n",
       "      <td>0</td>\n",
       "      <td>122</td>\n",
       "      <td>0</td>\n",
       "      <td>0</td>\n",
       "      <td>0</td>\n",
       "      <td>0</td>\n",
       "    </tr>\n",
       "  </tbody>\n",
       "</table>\n",
       "</div>"
      ],
      "text/plain": [
       "   Age  Sex  ChestPainType  RestingBP  Cholesterol  FastingBS  RestingECG  \\\n",
       "0   40    0              0        140          289          0           0   \n",
       "1   49    1              1        160          180          0           0   \n",
       "2   37    0              0        130          283          0           1   \n",
       "3   48    1              2        138          214          0           0   \n",
       "4   54    0              1        150          195          0           0   \n",
       "\n",
       "   MaxHR  ExerciseAngina  Oldpeak  ST_Slope  HeartDisease  \n",
       "0    172               0        0         0             0  \n",
       "1    156               0        1         1             1  \n",
       "2     98               0        0         0             0  \n",
       "3    108               1        1         1             1  \n",
       "4    122               0        0         0             0  "
      ]
     },
     "execution_count": 13,
     "metadata": {},
     "output_type": "execute_result"
    }
   ],
   "source": [
    "df.head()"
   ]
  },
  {
   "cell_type": "code",
   "execution_count": 14,
   "id": "9627ffeb-03d4-40ba-b83b-8224e88c7354",
   "metadata": {},
   "outputs": [
    {
     "data": {
      "text/plain": [
       "(1517, 12)"
      ]
     },
     "execution_count": 14,
     "metadata": {},
     "output_type": "execute_result"
    }
   ],
   "source": [
    "df.shape"
   ]
  },
  {
   "cell_type": "code",
   "execution_count": 15,
   "id": "fb38a751-8f3e-4ce9-b82c-5cb995e25886",
   "metadata": {},
   "outputs": [
    {
     "data": {
      "text/plain": [
       "Age               int64\n",
       "Sex               int64\n",
       "ChestPainType     int64\n",
       "RestingBP         int64\n",
       "Cholesterol       int64\n",
       "FastingBS         int64\n",
       "RestingECG        int64\n",
       "MaxHR             int64\n",
       "ExerciseAngina    int64\n",
       "Oldpeak           int32\n",
       "ST_Slope          int64\n",
       "HeartDisease      int64\n",
       "dtype: object"
      ]
     },
     "execution_count": 15,
     "metadata": {},
     "output_type": "execute_result"
    }
   ],
   "source": [
    "df.dtypes"
   ]
  },
  {
   "cell_type": "code",
   "execution_count": 16,
   "id": "62e933ff-e783-42fe-ab9f-0bc58f35d330",
   "metadata": {},
   "outputs": [
    {
     "name": "stdout",
     "output_type": "stream",
     "text": [
      "<class 'pandas.core.frame.DataFrame'>\n",
      "RangeIndex: 1517 entries, 0 to 1516\n",
      "Data columns (total 12 columns):\n",
      " #   Column          Non-Null Count  Dtype\n",
      "---  ------          --------------  -----\n",
      " 0   Age             1517 non-null   int64\n",
      " 1   Sex             1517 non-null   int64\n",
      " 2   ChestPainType   1517 non-null   int64\n",
      " 3   RestingBP       1517 non-null   int64\n",
      " 4   Cholesterol     1517 non-null   int64\n",
      " 5   FastingBS       1517 non-null   int64\n",
      " 6   RestingECG      1517 non-null   int64\n",
      " 7   MaxHR           1517 non-null   int64\n",
      " 8   ExerciseAngina  1517 non-null   int64\n",
      " 9   Oldpeak         1517 non-null   int32\n",
      " 10  ST_Slope        1517 non-null   int64\n",
      " 11  HeartDisease    1517 non-null   int64\n",
      "dtypes: int32(1), int64(11)\n",
      "memory usage: 136.4 KB\n"
     ]
    }
   ],
   "source": [
    "df.info()"
   ]
  },
  {
   "cell_type": "code",
   "execution_count": 17,
   "id": "bfe9cc5d-f966-49bd-8ddd-ab95398bb061",
   "metadata": {},
   "outputs": [
    {
     "data": {
      "text/html": [
       "<div>\n",
       "<style scoped>\n",
       "    .dataframe tbody tr th:only-of-type {\n",
       "        vertical-align: middle;\n",
       "    }\n",
       "\n",
       "    .dataframe tbody tr th {\n",
       "        vertical-align: top;\n",
       "    }\n",
       "\n",
       "    .dataframe thead th {\n",
       "        text-align: right;\n",
       "    }\n",
       "</style>\n",
       "<table border=\"1\" class=\"dataframe\">\n",
       "  <thead>\n",
       "    <tr style=\"text-align: right;\">\n",
       "      <th></th>\n",
       "      <th>Age</th>\n",
       "      <th>Sex</th>\n",
       "      <th>ChestPainType</th>\n",
       "      <th>RestingBP</th>\n",
       "      <th>Cholesterol</th>\n",
       "      <th>FastingBS</th>\n",
       "      <th>RestingECG</th>\n",
       "      <th>MaxHR</th>\n",
       "      <th>ExerciseAngina</th>\n",
       "      <th>Oldpeak</th>\n",
       "      <th>ST_Slope</th>\n",
       "      <th>HeartDisease</th>\n",
       "    </tr>\n",
       "  </thead>\n",
       "  <tbody>\n",
       "    <tr>\n",
       "      <th>count</th>\n",
       "      <td>1517.000000</td>\n",
       "      <td>1517.000000</td>\n",
       "      <td>1517.000000</td>\n",
       "      <td>1517.000000</td>\n",
       "      <td>1517.000000</td>\n",
       "      <td>1517.000000</td>\n",
       "      <td>1517.000000</td>\n",
       "      <td>1517.000000</td>\n",
       "      <td>1517.000000</td>\n",
       "      <td>1517.000000</td>\n",
       "      <td>1517.000000</td>\n",
       "      <td>1517.000000</td>\n",
       "    </tr>\n",
       "    <tr>\n",
       "      <th>mean</th>\n",
       "      <td>52.533289</td>\n",
       "      <td>0.218853</td>\n",
       "      <td>1.402769</td>\n",
       "      <td>132.256427</td>\n",
       "      <td>211.403428</td>\n",
       "      <td>0.196440</td>\n",
       "      <td>0.527357</td>\n",
       "      <td>137.228741</td>\n",
       "      <td>0.391562</td>\n",
       "      <td>0.702703</td>\n",
       "      <td>0.598550</td>\n",
       "      <td>0.512854</td>\n",
       "    </tr>\n",
       "    <tr>\n",
       "      <th>std</th>\n",
       "      <td>9.425922</td>\n",
       "      <td>0.413605</td>\n",
       "      <td>0.881841</td>\n",
       "      <td>18.456989</td>\n",
       "      <td>102.581794</td>\n",
       "      <td>0.397436</td>\n",
       "      <td>0.767115</td>\n",
       "      <td>24.886280</td>\n",
       "      <td>0.488261</td>\n",
       "      <td>0.969495</td>\n",
       "      <td>0.596005</td>\n",
       "      <td>0.500000</td>\n",
       "    </tr>\n",
       "    <tr>\n",
       "      <th>min</th>\n",
       "      <td>28.000000</td>\n",
       "      <td>0.000000</td>\n",
       "      <td>0.000000</td>\n",
       "      <td>0.000000</td>\n",
       "      <td>0.000000</td>\n",
       "      <td>0.000000</td>\n",
       "      <td>0.000000</td>\n",
       "      <td>60.000000</td>\n",
       "      <td>0.000000</td>\n",
       "      <td>-2.000000</td>\n",
       "      <td>0.000000</td>\n",
       "      <td>0.000000</td>\n",
       "    </tr>\n",
       "    <tr>\n",
       "      <th>25%</th>\n",
       "      <td>46.000000</td>\n",
       "      <td>0.000000</td>\n",
       "      <td>1.000000</td>\n",
       "      <td>120.000000</td>\n",
       "      <td>186.000000</td>\n",
       "      <td>0.000000</td>\n",
       "      <td>0.000000</td>\n",
       "      <td>120.000000</td>\n",
       "      <td>0.000000</td>\n",
       "      <td>0.000000</td>\n",
       "      <td>0.000000</td>\n",
       "      <td>0.000000</td>\n",
       "    </tr>\n",
       "    <tr>\n",
       "      <th>50%</th>\n",
       "      <td>53.000000</td>\n",
       "      <td>0.000000</td>\n",
       "      <td>2.000000</td>\n",
       "      <td>130.000000</td>\n",
       "      <td>226.000000</td>\n",
       "      <td>0.000000</td>\n",
       "      <td>0.000000</td>\n",
       "      <td>138.000000</td>\n",
       "      <td>0.000000</td>\n",
       "      <td>0.000000</td>\n",
       "      <td>1.000000</td>\n",
       "      <td>1.000000</td>\n",
       "    </tr>\n",
       "    <tr>\n",
       "      <th>75%</th>\n",
       "      <td>59.000000</td>\n",
       "      <td>0.000000</td>\n",
       "      <td>2.000000</td>\n",
       "      <td>140.000000</td>\n",
       "      <td>271.000000</td>\n",
       "      <td>0.000000</td>\n",
       "      <td>1.000000</td>\n",
       "      <td>155.000000</td>\n",
       "      <td>1.000000</td>\n",
       "      <td>1.000000</td>\n",
       "      <td>1.000000</td>\n",
       "      <td>1.000000</td>\n",
       "    </tr>\n",
       "    <tr>\n",
       "      <th>max</th>\n",
       "      <td>77.000000</td>\n",
       "      <td>1.000000</td>\n",
       "      <td>3.000000</td>\n",
       "      <td>200.000000</td>\n",
       "      <td>603.000000</td>\n",
       "      <td>1.000000</td>\n",
       "      <td>2.000000</td>\n",
       "      <td>202.000000</td>\n",
       "      <td>1.000000</td>\n",
       "      <td>6.000000</td>\n",
       "      <td>2.000000</td>\n",
       "      <td>1.000000</td>\n",
       "    </tr>\n",
       "  </tbody>\n",
       "</table>\n",
       "</div>"
      ],
      "text/plain": [
       "               Age          Sex  ChestPainType    RestingBP  Cholesterol  \\\n",
       "count  1517.000000  1517.000000    1517.000000  1517.000000  1517.000000   \n",
       "mean     52.533289     0.218853       1.402769   132.256427   211.403428   \n",
       "std       9.425922     0.413605       0.881841    18.456989   102.581794   \n",
       "min      28.000000     0.000000       0.000000     0.000000     0.000000   \n",
       "25%      46.000000     0.000000       1.000000   120.000000   186.000000   \n",
       "50%      53.000000     0.000000       2.000000   130.000000   226.000000   \n",
       "75%      59.000000     0.000000       2.000000   140.000000   271.000000   \n",
       "max      77.000000     1.000000       3.000000   200.000000   603.000000   \n",
       "\n",
       "         FastingBS   RestingECG        MaxHR  ExerciseAngina      Oldpeak  \\\n",
       "count  1517.000000  1517.000000  1517.000000     1517.000000  1517.000000   \n",
       "mean      0.196440     0.527357   137.228741        0.391562     0.702703   \n",
       "std       0.397436     0.767115    24.886280        0.488261     0.969495   \n",
       "min       0.000000     0.000000    60.000000        0.000000    -2.000000   \n",
       "25%       0.000000     0.000000   120.000000        0.000000     0.000000   \n",
       "50%       0.000000     0.000000   138.000000        0.000000     0.000000   \n",
       "75%       0.000000     1.000000   155.000000        1.000000     1.000000   \n",
       "max       1.000000     2.000000   202.000000        1.000000     6.000000   \n",
       "\n",
       "          ST_Slope  HeartDisease  \n",
       "count  1517.000000   1517.000000  \n",
       "mean      0.598550      0.512854  \n",
       "std       0.596005      0.500000  \n",
       "min       0.000000      0.000000  \n",
       "25%       0.000000      0.000000  \n",
       "50%       1.000000      1.000000  \n",
       "75%       1.000000      1.000000  \n",
       "max       2.000000      1.000000  "
      ]
     },
     "execution_count": 17,
     "metadata": {},
     "output_type": "execute_result"
    }
   ],
   "source": [
    "df.describe()"
   ]
  },
  {
   "cell_type": "code",
   "execution_count": 18,
   "id": "680aa6bd-dcbf-440a-80ac-229015a64376",
   "metadata": {},
   "outputs": [
    {
     "name": "stdout",
     "output_type": "stream",
     "text": [
      "Mean Age =  52.53328938694792\n"
     ]
    }
   ],
   "source": [
    "# mean age of the patient\n",
    "mean_age = df['Age'].mean()\n",
    "print('Mean Age = ', mean_age)"
   ]
  },
  {
   "cell_type": "code",
   "execution_count": 19,
   "id": "dddfa29e-7b08-4dc2-a082-e35faace6622",
   "metadata": {},
   "outputs": [
    {
     "name": "stdout",
     "output_type": "stream",
     "text": [
      "Median_HeartRate =  138.0\n"
     ]
    }
   ],
   "source": [
    "median_HeartRate = df['MaxHR'].median()\n",
    "print('Median_HeartRate = ',median_HeartRate)"
   ]
  },
  {
   "cell_type": "code",
   "execution_count": 20,
   "id": "66114899-15d9-433f-a353-1d1d069d5824",
   "metadata": {},
   "outputs": [],
   "source": [
    "# Quantiles for the MaxHR\n",
    "Q1 = df['MaxHR'].quantile(0.25)\n",
    "Q2 = df['MaxHR'].quantile(0.50)\n",
    "Q3 = df['MaxHR'].quantile(0.75)\n",
    "Q4 = df['MaxHR'].quantile(1)"
   ]
  },
  {
   "cell_type": "code",
   "execution_count": 21,
   "id": "746ac055-cd8e-47bb-94ee-72d33cf800ae",
   "metadata": {},
   "outputs": [
    {
     "name": "stdout",
     "output_type": "stream",
     "text": [
      "First Quartile =  120.0\n",
      "Second Quartile =  138.0\n",
      "Third Quartile =  155.0\n",
      "Fourth Quartile =  202.0\n"
     ]
    }
   ],
   "source": [
    "print('First Quartile = ', Q1)\n",
    "print('Second Quartile = ', Q2)\n",
    "print('Third Quartile = ', Q3)\n",
    "print('Fourth Quartile = ', Q4)"
   ]
  },
  {
   "cell_type": "code",
   "execution_count": 22,
   "id": "2d62c8bd-1189-45da-a558-e84ba6c59f78",
   "metadata": {},
   "outputs": [
    {
     "name": "stdout",
     "output_type": "stream",
     "text": [
      "Median_Cholesterol =  226.0\n"
     ]
    }
   ],
   "source": [
    "median_Cholesterol = df['Cholesterol'].median()\n",
    "print('Median_Cholesterol = ',median_Cholesterol)"
   ]
  },
  {
   "cell_type": "code",
   "execution_count": 23,
   "id": "78b03d1e-179c-4940-9896-2fcbd5bb6069",
   "metadata": {},
   "outputs": [],
   "source": [
    "# Quantiles for the Cholestrol\n",
    "Q1 = df['Cholesterol'].quantile(0.25)\n",
    "Q2 = df['Cholesterol'].quantile(0.50)\n",
    "Q3 = df['Cholesterol'].quantile(0.75)\n",
    "Q4 = df['Cholesterol'].quantile(1)"
   ]
  },
  {
   "cell_type": "code",
   "execution_count": 24,
   "id": "66e45112-9b67-43c4-a582-7428facf289b",
   "metadata": {},
   "outputs": [
    {
     "name": "stdout",
     "output_type": "stream",
     "text": [
      "First Quartile =  186.0\n",
      "Second Quartile =  226.0\n",
      "Third Quartile =  271.0\n",
      "Fourth Quartile =  603.0\n"
     ]
    }
   ],
   "source": [
    "print('First Quartile = ', Q1)\n",
    "print('Second Quartile = ', Q2)\n",
    "print('Third Quartile = ', Q3)\n",
    "print('Fourth Quartile = ', Q4)"
   ]
  },
  {
   "cell_type": "code",
   "execution_count": 25,
   "id": "9887599f-1cc8-4208-a114-6fed301e56cc",
   "metadata": {},
   "outputs": [
    {
     "name": "stdout",
     "output_type": "stream",
     "text": [
      "Common Age =  0    54\n",
      "Name: Age, dtype: int64\n"
     ]
    }
   ],
   "source": [
    "# common age of the patient\n",
    "mod_age = df['Age'].mode()\n",
    "print('Common Age = ', mod_age)"
   ]
  },
  {
   "cell_type": "code",
   "execution_count": 26,
   "id": "85ef5dfd-88d5-4ebc-9bff-bc2b62122bb1",
   "metadata": {},
   "outputs": [
    {
     "data": {
      "text/plain": [
       "Age               0\n",
       "Sex               0\n",
       "ChestPainType     0\n",
       "RestingBP         0\n",
       "Cholesterol       0\n",
       "FastingBS         0\n",
       "RestingECG        0\n",
       "MaxHR             0\n",
       "ExerciseAngina    0\n",
       "Oldpeak           0\n",
       "ST_Slope          0\n",
       "HeartDisease      0\n",
       "dtype: int64"
      ]
     },
     "execution_count": 26,
     "metadata": {},
     "output_type": "execute_result"
    }
   ],
   "source": [
    "df.isnull().sum()"
   ]
  },
  {
   "cell_type": "markdown",
   "id": "29209bc1-90e9-4964-8a55-358b8ee68fdb",
   "metadata": {},
   "source": [
    "## Univariate Analysis"
   ]
  },
  {
   "cell_type": "code",
   "execution_count": 27,
   "id": "265461a0-9423-4b19-80d6-6d0b837c622c",
   "metadata": {},
   "outputs": [
    {
     "data": {
      "text/plain": [
       "1    778\n",
       "0    739\n",
       "Name: HeartDisease, dtype: int64"
      ]
     },
     "execution_count": 27,
     "metadata": {},
     "output_type": "execute_result"
    }
   ],
   "source": [
    "df['HeartDisease'].value_counts()"
   ]
  },
  {
   "cell_type": "code",
   "execution_count": 28,
   "id": "eba88abb-20da-4576-afd2-0e2862f539af",
   "metadata": {},
   "outputs": [
    {
     "data": {
      "text/plain": [
       "<AxesSubplot:>"
      ]
     },
     "execution_count": 28,
     "metadata": {},
     "output_type": "execute_result"
    },
    {
     "data": {
      "image/png": "[encoded data removed]",
      "text/plain": [
       "<Figure size 432x288 with 1 Axes>"
      ]
     },
     "metadata": {
      "needs_background": "light"
     },
     "output_type": "display_data"
    }
   ],
   "source": [
    "# plotting the bar plot of frequencies\n",
    "df['HeartDisease'].value_counts().plot.bar()"
   ]
  },
  {
   "cell_type": "code",
   "execution_count": 29,
   "id": "9e614217-723d-4286-86b3-f80e69b7a986",
   "metadata": {},
   "outputs": [
    {
     "data": {
      "text/plain": [
       "0    1185\n",
       "1     332\n",
       "Name: Sex, dtype: int64"
      ]
     },
     "execution_count": 29,
     "metadata": {},
     "output_type": "execute_result"
    }
   ],
   "source": [
    "df['Sex'].value_counts()"
   ]
  },
  {
   "cell_type": "code",
   "execution_count": 30,
   "id": "9c98df28-a88a-4c5a-b401-e9f01a7ef203",
   "metadata": {},
   "outputs": [
    {
     "data": {
      "text/plain": [
       "<AxesSubplot:>"
      ]
     },
     "execution_count": 30,
     "metadata": {},
     "output_type": "execute_result"
    },
    {
     "data": {
      "image/png": "[encoded data removed]",
      "text/plain": [
       "<Figure size 432x288 with 1 Axes>"
      ]
     },
     "metadata": {
      "needs_background": "light"
     },
     "output_type": "display_data"
    }
   ],
   "source": [
    "# plotting the bar plot of frequencies\n",
    "df['Sex'].value_counts().plot.bar()"
   ]
  },
  {
   "cell_type": "code",
   "execution_count": 31,
   "id": "7ed1c9ec-ec46-43da-9f0a-c20d1dbd56fa",
   "metadata": {},
   "outputs": [
    {
     "name": "stderr",
     "output_type": "stream",
     "text": [
      "C:\\Anaconda\\lib\\site-packages\\seaborn\\distributions.py:2619: FutureWarning: `distplot` is a deprecated function and will be removed in a future version. Please adapt your code to use either `displot` (a figure-level function with similar flexibility) or `histplot` (an axes-level function for histograms).\n",
      "  warnings.warn(msg, FutureWarning)\n"
     ]
    },
    {
     "data": {
      "text/plain": [
       "<AxesSubplot:xlabel='Age', ylabel='Density'>"
      ]
     },
     "execution_count": 31,
     "metadata": {},
     "output_type": "execute_result"
    },
    {
     "data": {
      "image/png": "[encoded data removed]",
      "text/plain": [
       "<Figure size 432x288 with 1 Axes>"
      ]
     },
     "metadata": {
      "needs_background": "light"
     },
     "output_type": "display_data"
    }
   ],
   "source": [
    "sn.distplot(df[\"Age\"])"
   ]
  },
  {
   "cell_type": "code",
   "execution_count": 32,
   "id": "4c88f995-3272-4084-ba15-ce5429e38c64",
   "metadata": {},
   "outputs": [
    {
     "name": "stderr",
     "output_type": "stream",
     "text": [
      "C:\\Anaconda\\lib\\site-packages\\seaborn\\distributions.py:2619: FutureWarning: `distplot` is a deprecated function and will be removed in a future version. Please adapt your code to use either `displot` (a figure-level function with similar flexibility) or `histplot` (an axes-level function for histograms).\n",
      "  warnings.warn(msg, FutureWarning)\n"
     ]
    },
    {
     "data": {
      "text/plain": [
       "<AxesSubplot:xlabel='MaxHR', ylabel='Density'>"
      ]
     },
     "execution_count": 32,
     "metadata": {},
     "output_type": "execute_result"
    },
    {
     "data": {
      "image/png": "[encoded data removed]",
      "text/plain": [
       "<Figure size 432x288 with 1 Axes>"
      ]
     },
     "metadata": {
      "needs_background": "light"
     },
     "output_type": "display_data"
    }
   ],
   "source": [
    "sn.distplot(df[\"MaxHR\"])"
   ]
  },
  {
   "cell_type": "markdown",
   "id": "eabc0a0e-1590-4c01-8f7e-a3e955840635",
   "metadata": {},
   "source": [
    "## Bivariate Analysis"
   ]
  },
  {
   "cell_type": "code",
   "execution_count": 33,
   "id": "554d49f8-f04c-4271-8139-99595176563d",
   "metadata": {},
   "outputs": [
    {
     "name": "stdout",
     "output_type": "stream",
     "text": [
      "HeartDisease   0   1\n",
      "Age                 \n",
      "28             3   0\n",
      "29             6   0\n",
      "30             2   0\n",
      "31             3   1\n",
      "32             5   5\n",
      "33             2   3\n",
      "34            10   4\n",
      "35            15   8\n",
      "36             9   3\n",
      "37            16   2\n",
      "38             9  17\n",
      "39            30   4\n",
      "40            14  11\n",
      "41            31   8\n",
      "42            30   3\n",
      "43            23  18\n",
      "44            22  11\n",
      "45            25   6\n",
      "46            22  20\n",
      "47            17  20\n",
      "48            31  29\n",
      "49            21  23\n",
      "50            20  23\n",
      "51            36  22\n",
      "52            30  33\n",
      "53            33  20\n",
      "54            50  40\n",
      "55            37  37\n",
      "56            21  36\n",
      "57            23  35\n",
      "58            22  44\n",
      "59            22  36\n",
      "60            14  30\n",
      "61            10  36\n",
      "62            17  33\n",
      "63            11  34\n",
      "64             9  19\n",
      "65             7  26\n",
      "66             7  10\n",
      "67             4  16\n",
      "68             5   8\n",
      "69             4  12\n",
      "70             2   9\n",
      "71             3   2\n",
      "72             1   5\n",
      "73             0   1\n",
      "74             2   6\n",
      "75             1   4\n",
      "76             2   2\n",
      "77             0   3\n"
     ]
    },
    {
     "data": {
      "text/plain": [
       "Text(0, 0.5, 'HeartDisease')"
      ]
     },
     "execution_count": 33,
     "metadata": {},
     "output_type": "execute_result"
    },
    {
     "data": {
      "image/png": "[encoded data removed]",
      "text/plain": [
       "<Figure size 576x576 with 1 Axes>"
      ]
     },
     "metadata": {
      "needs_background": "light"
     },
     "output_type": "display_data"
    }
   ],
   "source": [
    "print(pd.crosstab(df['Age'],df['HeartDisease']))\n",
    "\n",
    "Age=pd.crosstab(df['Age'],df['HeartDisease'])\n",
    "Age.div(Age.sum(1).astype(float), axis=0).plot(kind=\"bar\", stacked=True, figsize=(8,8))\n",
    "plt.xlabel('Age')\n",
    "plt.ylabel('HeartDisease')"
   ]
  },
  {
   "cell_type": "code",
   "execution_count": 34,
   "id": "18b1a92c-afb1-47f3-b1e3-a4483186e8df",
   "metadata": {},
   "outputs": [
    {
     "name": "stdout",
     "output_type": "stream",
     "text": [
      "HeartDisease    0    1\n",
      "Sex                   \n",
      "0             483  702\n",
      "1             256   76\n"
     ]
    },
    {
     "data": {
      "text/plain": [
       "Text(0, 0.5, 'HeartDisease')"
      ]
     },
     "execution_count": 34,
     "metadata": {},
     "output_type": "execute_result"
    },
    {
     "data": {
      "image/png": "[encoded data removed]",
      "text/plain": [
       "<Figure size 576x576 with 1 Axes>"
      ]
     },
     "metadata": {
      "needs_background": "light"
     },
     "output_type": "display_data"
    }
   ],
   "source": [
    "print(pd.crosstab(df['Sex'],df['HeartDisease']))\n",
    "\n",
    "Sex=pd.crosstab(df['Sex'],df['HeartDisease'])\n",
    "Sex.div(Sex.sum(1).astype(float), axis=0).plot(kind=\"bar\", stacked=True, figsize=(8,8))\n",
    "plt.xlabel('Sex')\n",
    "plt.ylabel('HeartDisease')"
   ]
  },
  {
   "cell_type": "code",
   "execution_count": 35,
   "id": "ac69aecf-aed4-4a44-8d2d-a10ba6b90e99",
   "metadata": {},
   "outputs": [
    {
     "name": "stdout",
     "output_type": "stream",
     "text": [
      "Cholesterol  0    85   100  110  113  117  123  126  129  131  ...  412  417  \\\n",
      "FastingBS                                                      ...             \n",
      "0            106    3    4    0    2    2    0    3    3    1  ...    2    0   \n",
      "1            105    0    0    1    0    0    1    2    0    0  ...    0    1   \n",
      "\n",
      "Cholesterol  458  466  468  491  518  529  564  603  \n",
      "FastingBS                                            \n",
      "0              0    0    2    3    1    3    1    0  \n",
      "1              2    3    0    0    0    0    0    3  \n",
      "\n",
      "[2 rows x 222 columns]\n"
     ]
    },
    {
     "data": {
      "text/plain": [
       "Text(0, 0.5, 'Cholesterol')"
      ]
     },
     "execution_count": 35,
     "metadata": {},
     "output_type": "execute_result"
    },
    {
     "data": {
      "image/png": "[encoded data removed]",
      "text/plain": [
       "<Figure size 576x576 with 1 Axes>"
      ]
     },
     "metadata": {
      "needs_background": "light"
     },
     "output_type": "display_data"
    }
   ],
   "source": [
    "print(pd.crosstab(df['FastingBS'],df['Cholesterol']))\n",
    "\n",
    "FastingBS=pd.crosstab(df['FastingBS'],df['Cholesterol'])\n",
    "FastingBS.div(FastingBS.sum(1).astype(float), axis=0).plot(kind=\"bar\", stacked=True, figsize=(8,8))\n",
    "plt.xlabel('FastingBS')\n",
    "plt.ylabel('Cholesterol')"
   ]
  },
  {
   "cell_type": "code",
   "execution_count": 36,
   "id": "a9b1bb42-1566-46ab-ab41-99769c891ee0",
   "metadata": {},
   "outputs": [
    {
     "data": {
      "text/plain": [
       "<AxesSubplot:>"
      ]
     },
     "execution_count": 36,
     "metadata": {},
     "output_type": "execute_result"
    },
    {
     "data": {
      "image/png": "[encoded data removed]",
      "text/plain": [
       "<Figure size 1440x720 with 2 Axes>"
      ]
     },
     "metadata": {
      "needs_background": "light"
     },
     "output_type": "display_data"
    }
   ],
   "source": [
    "corr = df.corr()\n",
    "mask = np.array(corr)\n",
    "mask[np.tril_indices_from(mask)] = False\n",
    "fig,ax= plt.subplots()\n",
    "fig.set_size_inches(20,10)\n",
    "sn.heatmap(corr, mask=mask,vmax=.9, square=True,annot=True, cmap=\"YlGnBu\")"
   ]
  },
  {
   "cell_type": "markdown",
   "id": "4d48acbe-e74d-447f-8630-2007a47140fd",
   "metadata": {},
   "source": [
    "## Logistic Regression"
   ]
  },
  {
   "cell_type": "code",
   "execution_count": 37,
   "id": "735aa90f-630d-416d-b3d0-64381cf720b7",
   "metadata": {},
   "outputs": [],
   "source": [
    "from sklearn.linear_model import LogisticRegression\n",
    "x = df[['Age', 'Sex', 'ChestPainType', 'RestingBP', 'Cholesterol', 'FastingBS',\n",
    "       'RestingECG', 'MaxHR', 'ExerciseAngina', 'Oldpeak', 'ST_Slope']].values\n",
    "\n",
    "y = df['HeartDisease'].values"
   ]
  },
  {
   "cell_type": "code",
   "execution_count": 38,
   "id": "58361b46-4174-4389-a633-e549057f3ac6",
   "metadata": {},
   "outputs": [],
   "source": [
    "from sklearn.model_selection import train_test_split\n",
    "x_train, x_test, y_train, y_test = train_test_split(x, y, test_size = 0.3, random_state = 10)"
   ]
  },
  {
   "cell_type": "code",
   "execution_count": 39,
   "id": "01b47516-fe86-4031-9432-e4cadd84d660",
   "metadata": {},
   "outputs": [],
   "source": [
    "# defining the logistic regression model\n",
    "#lreg = LogisticRegression()\n",
    "lreg = LogisticRegression(solver='lbfgs', max_iter=1500)"
   ]
  },
  {
   "cell_type": "code",
   "execution_count": 40,
   "id": "2d550e17-a04c-475a-9d37-8d622dc7e484",
   "metadata": {},
   "outputs": [
    {
     "data": {
      "text/plain": [
       "LogisticRegression(max_iter=1500)"
      ]
     },
     "execution_count": 40,
     "metadata": {},
     "output_type": "execute_result"
    }
   ],
   "source": [
    "# fitting the model on  X_train and y_train\n",
    "lreg.fit(x_train,y_train)"
   ]
  },
  {
   "cell_type": "code",
   "execution_count": 41,
   "id": "ed8ce155-4706-400f-87f1-411253030077",
   "metadata": {},
   "outputs": [],
   "source": [
    "# making prediction on the validation set\n",
    "prediction = lreg.predict(x_test)"
   ]
  },
  {
   "cell_type": "code",
   "execution_count": 42,
   "id": "1ff464a2-be5e-4c14-a676-1a8eb78ed702",
   "metadata": {},
   "outputs": [],
   "source": [
    "from sklearn.metrics import accuracy_score"
   ]
  },
  {
   "cell_type": "code",
   "execution_count": 43,
   "id": "9dd57f04-97fc-42ec-b3a3-2c3bdb9e9f81",
   "metadata": {},
   "outputs": [
    {
     "data": {
      "text/plain": [
       "0.8771929824561403"
      ]
     },
     "execution_count": 43,
     "metadata": {},
     "output_type": "execute_result"
    }
   ],
   "source": [
    "# calculating the accuracy score\n",
    "accuracy_score(y_test, prediction)"
   ]
  },
  {
   "cell_type": "code",
   "execution_count": null,
   "id": "6a6e7565-978e-4a94-8fac-d4106681a5f2",
   "metadata": {},
   "outputs": [],
   "source": []
  }
 ],
 "metadata": {
  "kernelspec": {
   "display_name": "Python 3 (ipykernel)",
   "language": "python",
   "name": "python3"
  },
  "language_info": {
   "codemirror_mode": {
    "name": "ipython",
    "version": 3
   },
   "file_extension": ".py",
   "mimetype": "text/x-python",
   "name": "python",
   "nbconvert_exporter": "python",
   "pygments_lexer": "ipython3",
   "version": "3.9.12"
  }
 },
 "nbformat": 4,
 "nbformat_minor": 5
}
